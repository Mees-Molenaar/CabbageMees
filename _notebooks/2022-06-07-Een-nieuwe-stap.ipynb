{
 "cells": [
  {
   "cell_type": "markdown",
   "metadata": {},
   "source": [
    "# \"Een Nieuwe Stap\"\n",
    "> \"Een nieuwe stap in het blog avontuur\"\n",
    "\n",
    "- hidden: false\n",
    "- toc: true\n",
    "- branch: master\n",
    "- badges: false\n",
    "- categories: [De reis]\n",
    "- search_exclude: false\n",
    "- show_tags: true"
   ]
  },
  {
   "cell_type": "markdown",
   "metadata": {},
   "source": [
    "# Een Tijdje Geleden"
   ]
  },
  {
   "cell_type": "markdown",
   "metadata": {},
   "source": [
    "Het is alweer een tijdje geleden dat ik voor het laatste iets op de blog geschreven heb. Toen ik begon als Machine Learning (ML) Engineer was ik vooral daar mijn tijd aan kwijt, zodat ik mij zo goed mogelijk kon ontwikkelen en een mooi product kon maken. Ik denk dat ik mag zeggen dat beide zijn gelukt. Het gevolg daarvan is dat ik een volgende stap mag zetten naar een nieuwe werkgever waar ik ontzettend naar uit kijk! Voordat ik daar zou gaan beginnen hadden mijn vriendin en ik drie weken vakantie genomen, waarin we veel rust hebben gepakt. Ook heb ik kunnen nadenken over activiteiten naast werk, zoals deze blog. Hier had ik, toen ik begon, bepaalde ideeën over, maar deze zijn nu veranderd. In deze post wil ik dat toelichten en hopelijk lijkt het jullie interessant om met mij een nieuw avontuur te beleven."
   ]
  },
  {
   "cell_type": "markdown",
   "metadata": {},
   "source": [
    "# Het Nieuwe Idee"
   ]
  },
  {
   "cell_type": "markdown",
   "metadata": {},
   "source": [
    "Tijdens de vakantie heb ik een nieuw idee bedacht om het voor mezelf makkelijker te maken om meer te gaan bloggen, namelijk op projectbasis. Zelf programmeer ik namelijk ook in projecten en ik denk dat dit zal helpen met het schrijven van een blogpost. Daarbij komt ook dat het proces van een nieuw project niet vaak beschreven wordt (althans ik heb dit naast standaard tutorials niet veel gevonden). Wellicht is het voor anderen ook waardevol om via deze weg meer te leren over het maken van een nieuw project. "
   ]
  },
  {
   "cell_type": "markdown",
   "metadata": {},
   "source": [
    "# De Planning"
   ]
  },
  {
   "cell_type": "markdown",
   "metadata": {},
   "source": [
    "Voor nu heb ik een voorlopige planning gemaakt maar deze staat zeker niet vast (Ik schrijf nu namelijk op de Note Air 2, en het zou super handig zijn wanneer handgeschreven notities automatisch worden omgezet naar een Jupyter Notebook. Aan dit project ben ik meteen begonnen wat de planning na 2 dagen al overhoop gooide :)). Maar toch probeer ik mij aan deze planning te houden:\n",
    "\n",
    "1. \n",
    "    - Automatisch handgeschreven tekst naar Jupyter Notebook\n",
    "    - Android app maken (Minimum Viable Product: MVP)\n",
    "2. Functioneel programmeren Python module schrijven (op basis van het boek Grocking Simplicity)\n",
    "3. Anki Add-on (MVP)\n",
    "4. Recepten Web-App (MVP)\n",
    "\n",
    "Daarna wordt het waarschijnlijk het verbeteren van de MVPs naar nieuwere versies. Maar zoals gezegd, bestaat er een kans op verschuivingen in de planning en tussenkomende projecten."
   ]
  },
  {
   "cell_type": "markdown",
   "metadata": {},
   "source": [
    "# Proces"
   ]
  },
  {
   "cell_type": "markdown",
   "metadata": {},
   "source": [
    "Ook wil ik zoveel mogelijk via DevOps (hierover later meer!) principes gaan werken om zo te laten zien hoe je in de praktijk (wat ik nu weet) zou kunnen werken. Zelf heb ik namelijk ondervonden dat dit nauwelijks wordt uitgelegd. Ik geloof dat werken met DevOps principes veel voordelen heeft maar dat ik mij hier nog veel in kan verbeteren. Daarom ga ik dat in eigen projecten toepassen en hoor ik ook graag wat jullie zouden doen!"
   ]
  },
  {
   "cell_type": "markdown",
   "metadata": {},
   "source": [
    "Hopelijk geeft dit een duidelijk beeld en lijkt het jullie leuk om te volgen.\n",
    "Bedankt voor het lezen en hopelijk tot de volgende keer!"
   ]
  },
  {
   "cell_type": "markdown",
   "metadata": {},
   "source": [
    "Fijne dag!"
   ]
  },
  {
   "cell_type": "markdown",
   "metadata": {},
   "source": [
    "Mees"
   ]
  }
 ],
 "metadata": {
  "interpreter": {
   "hash": "e7370f93d1d0cde622a1f8e1c04877d8463912d04d973331ad4851f04de6915a"
  },
  "kernelspec": {
   "display_name": "Python 3.7.3 32-bit",
   "language": "python",
   "name": "python3"
  },
  "language_info": {
   "name": "python",
   "version": "3.7.3"
  },
  "orig_nbformat": 4
 },
 "nbformat": 4,
 "nbformat_minor": 2
}
