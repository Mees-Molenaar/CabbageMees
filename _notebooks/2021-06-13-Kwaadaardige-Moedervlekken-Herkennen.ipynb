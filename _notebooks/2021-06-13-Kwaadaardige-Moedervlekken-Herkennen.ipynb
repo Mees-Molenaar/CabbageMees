{
 "cells": [
  {
   "cell_type": "markdown",
   "id": "b767bf76-bfca-458c-b34a-1aec8f5bfad1",
   "metadata": {},
   "source": [
    "# \"Kwaadaardige moedervlekken herkennen met artificële intelligentie\"\n",
    "> \"Een voorbeeld van een AI project wat een biologisch probleem kan oplossen\"\n",
    "\n",
    "- permalink: /volgende_post/\n",
    "- toc: false\n",
    "- branch: master\n",
    "- badges: false\n",
    "- categories: [De reis, Introductie]\n",
    "- search_exclude: true\n",
    "- show_tags: true\n",
    "- hide: true"
   ]
  },
  {
   "cell_type": "markdown",
   "id": "ca129bee-b3e3-4972-94df-83953fac04f4",
   "metadata": {},
   "source": [
    "Hoi hoi,\n",
    "\n",
    "Vandaag wil ik een voorbeeld delen van Artificiële Intelligentie (AI) in de biologie. Dit is mijn eerste project dat ik gemaakt heb, namelijk een model (eigenlijk een soort van computerprogramma) die kan voorspellen of een moedervlek goed- of kwaadaardig is {% fn 1 %}. Hiermee was ik begonnen omdat de (gratis!) online cursus van Fastai {% fn 2 %} aanbeveeld om zo snel mogelijk te experimenteren. ZO kan je spelenderwijs leren en later, mocht je het interessant vinden, dieper in de theorie duiken."
   ]
  },
  {
   "cell_type": "markdown",
   "id": "de67f29b-607a-4d6f-968b-d97c3ba4d8f8",
   "metadata": {},
   "source": [
    "Om het nog makkelijker te maken en sneller te kunnen beginnen met experimenteren heeft Fastai een eigen Python library (een term dat gebruikt wordt als: een uitbreiding van de programmeertaal Python). Met deze library, kan je met relatief weinig programmer kennis een model trainen die een voorspelling kan maken van, ja van wat niet eigenlijk. Dit kan zolang je maar genoeg voorbeelden (je data) hebt. Gelukkig, hoef je niet altijd zelf je data te verzamelen maar zijn er mensen die data gratis met de wereld delen. (Die en die mensen) hebben plaatjes van moedervlekken bij elkaar gezocht en een label (een label is de waarde die de data, in dit geval een foto, heeft) gegeven {% fn 3 %}. Specialisten op het gebied van moedervlekken hebben iedere foto beoordeeld als goed- of kwaadaardige moedervlek. Deze stap is erg belangrijk want zonder gelabelde data kan je eigenlijk geen AI model maken die een nuttige voorspelling kan doen (met uitzondering van technieken die ongelabelde data gebruiken, maar dat is voor een volgende keer). En vaak is des te meer data des te beter."
   ]
  },
  {
   "cell_type": "markdown",
   "id": "d2db37fb-40c6-4943-8101-ac70544f507a",
   "metadata": {},
   "source": [
    "Nu we onze data hebben kunnen we bijna beginnen om een AI model te trainen. We hebben namelijk ook data nodig om ons model te evalueren. Hiervoor gebruik je data dat niet is gebruikt tijdens het trainen. In de praktijk splits je daarom je data vaak in twee groepen. Een groep die je gebruikt om je model te trainen en een groep om te evalueren. Door deze splitsing evalueer je het getrainde model met data wat je model nog niet gezien heeft tijdens de training. Dat is erg belangrijk, want uiteindelijk word je model ook op deze manier gebruikt! Een foto die een gebruiker instuurt heeft het model nog nooit gezien en op deze foto's wil je een accurate voorspelling doen."
   ]
  },
  {
   "cell_type": "markdown",
   "id": "36df48c5-4f72-4fbe-999f-2ff68617bd35",
   "metadata": {},
   "source": [
    "Ok, nu kunnen we dan echt beginnen met het trainen van het model. Voor foto's en plaatjes word (vaak) een speciale vorm model gebruikt, namelijk een convolutioneel neuraal netwerk (CNN; nog een term die ik later verder ga uitleggen, voor nu kan je een convolutie zien als een speciale rekensom). Zo een CNN gaan wij nu ook gebruiken (en de Fastai library maakt het ons erg gemakkelijk om dit te doen, maar de details bespreek ik weer later)."
   ]
  },
  {
   "cell_type": "markdown",
   "id": "cf5705a5-ca67-498d-a241-7badc362667f",
   "metadata": {},
   "source": [
    "In onderstaande tabel zie je dat we (na maar een paar minuten trainen) een accuuraatheid van maarliefst .... % hebben (IK MOET DIE TABEL ETC NOG MAKEN EN BIJ ELKAAR ZOEKEN ETC ETC). Dat is de kracht van transfer learning en trainen op een grafische kaart (GPU). Echter, een wezenlijk probleem is echter dat de accuraatheid verbonden is aan of je model een soortgelijke moedervlek heeft gezien tijdens de training. Hoewel we dat probleem zo goed mogelijk op te lossen door je data te splitsen, is het nog steeds een probleem wanneer een moedervlek er compleet anders uit ziet dan de moedervlekken waarop je het model hebt getraind. Dat is een reden waarom deze moddelen in de praktijk nog geen specialisten vervangen en waarom je dus met een gek uitziende moedervlek altijd naar een specialist moet gaan. Maar, deze modellen kunnen wel als hulpmiddel dienen voor deze specialisten! Dit voorbeeld laat dus de kracht maar zeker ook een grote uitdaging van AI zien. "
   ]
  },
  {
   "cell_type": "markdown",
   "id": "2cef52d7-b975-40a5-8cad-e0b22f6aabb7",
   "metadata": {},
   "source": [
    "Er zijn vele voorbeelden waar soortgelijke technieken worden gebruikt (zie tabel 2). De code van dit project kan je vinden op [Github](https://github.com/Mees-Molenaar/melanoma-classifier) en je kunt het getrainde model ook testen met een foto van een eigen moedervlek of eentje van het internet ([moedervlek herkenner](https://melanoma-classifier.herokuapp.com/)). "
   ]
  },
  {
   "cell_type": "markdown",
   "id": "f042ea3e-3664-4293-b9c6-8a73d912066e",
   "metadata": {},
   "source": [
    "We zijn weer aan het einde gekomen en ik kan me goed voorstellen dat het duizeld van de moeilijke termen. Ik ga proberen om die termen in toekomstige berichten zo duidelijk mogelijk uit te leggen. Mochten er vragen of opmerkingen zijn, dan kunnen jullie die hieronder plaatsen! Bedankt voor het lezen en tot de volgende keer! (Smeer je goed in tegen de zon!!)."
   ]
  },
  {
   "cell_type": "markdown",
   "id": "2dce0246-af4e-4c6d-9d83-6153e004b6ec",
   "metadata": {},
   "source": [
    "{{ 'Dit soort modellen zijn geen vervanging van een specialist. Wanneer je een rare (moeder)vlek hebt, raadpleeg altijd een dokter.' | fndetail: 1 }}\n",
    "{{ '[Fastai website](https://www.fast.ai/)' | fndetail: 2 }}\n",
    "{{ 'Link naar die paper met voorbeelden etc.' | fndetail: 3 }}"
   ]
  }
 ],
 "metadata": {
  "kernelspec": {
   "display_name": "Python 3",
   "language": "python",
   "name": "python3"
  },
  "language_info": {
   "codemirror_mode": {
    "name": "ipython",
    "version": 3
   },
   "file_extension": ".py",
   "mimetype": "text/x-python",
   "name": "python",
   "nbconvert_exporter": "python",
   "pygments_lexer": "ipython3",
   "version": "3.7.3"
  }
 },
 "nbformat": 4,
 "nbformat_minor": 5
}
