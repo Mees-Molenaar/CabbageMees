{
 "cells": [
  {
   "cell_type": "code",
   "execution_count": 1,
   "metadata": {},
   "outputs": [],
   "source": [
    "#hide\n",
    "from bs4 import BeautifulSoup\n",
    "import requests\n",
    "import pprint\n",
    "import plotly.express as px\n",
    "import pandas as pd\n",
    "from IPython.display import HTML"
   ]
  },
  {
   "cell_type": "markdown",
   "metadata": {},
   "source": [
    "# \"Tussenproject - Tour de France\"\n",
    "\n",
    "> \"Best presterende renners van de Tour de France voorspellen met Machine Learning\"\n",
    "\n",
    "- hidden: true\n",
    "- toc: false\n",
    "- branch: master\n",
    "- badges: false\n",
    "- categories: [Python, Tussenproject, AI, ML]\n",
    "- search_exclude: false\n",
    "- show_tags: true"
   ]
  },
  {
   "cell_type": "code",
   "execution_count": 2,
   "metadata": {},
   "outputs": [
    {
     "name": "stdout",
     "output_type": "stream",
     "text": [
      "Tour de France 2022 Stage 4 results\n"
     ]
    }
   ],
   "source": [
    "# Example: How to open a page using requests and BeautifulSoup\n",
    "\n",
    "race_url = r\"https://www.procyclingstats.com/race/tour-de-france/2022/stage-4\"\n",
    "\n",
    "# Perform a get request on the url\n",
    "req = requests.get(race_url)\n",
    "\n",
    "# Make a BeautifulSoup object from the requests's text\n",
    "soup = BeautifulSoup(req.text, \"lxml\")\n",
    "\n",
    "# Get the title of the page\n",
    "print(soup.find('title').string)"
   ]
  },
  {
   "cell_type": "code",
   "execution_count": 3,
   "metadata": {},
   "outputs": [
    {
     "name": "stdout",
     "output_type": "stream",
     "text": [
      "{1: 'VAN AERT Wout',\n",
      " 2: 'PHILIPSEN Jasper',\n",
      " 3: 'LAPORTE Christophe',\n",
      " 4: 'KRISTOFF Alexander',\n",
      " 5: 'SAGAN Peter',\n",
      " 6: 'MOZZATO Luca',\n",
      " 7: 'VAN POPPEL Danny',\n",
      " 8: 'HOFSTETTER Hugo',\n",
      " 9: 'MATTHEWS Michael',\n",
      " 10: 'THOMAS Benjamin',\n",
      " 11: 'DAINESE Alberto',\n",
      " 12: 'PEDERSEN Mads',\n",
      " 13: 'JAKOBSEN Fabio',\n",
      " 14: 'PASQUALON Andrea',\n",
      " 15: 'WRIGHT Fred',\n",
      " 16: 'NAESEN Oliver',\n",
      " 17: 'NEILANDS Krists',\n",
      " 18: 'KRIEGER Alexander',\n",
      " 19: 'BISSEGGER Stefan',\n",
      " 20: 'VLASOV Aleksandr'}\n"
     ]
    }
   ],
   "source": [
    "# Example: Getting the top-20 results of a race\n",
    "\n",
    "race_url = r\"https://www.procyclingstats.com/race/tour-de-france/2022/stage-4\"\n",
    "\n",
    "# Perform a get request on the url\n",
    "req = requests.get(race_url)\n",
    "\n",
    "# Make a BeautifulSoup object from the requests's text\n",
    "soup = BeautifulSoup(req.text, \"lxml\")\n",
    "\n",
    "# I used the browser to find the element we are interested in\n",
    "result_list = soup.find(\"table\", class_=\"results basic moblist10\").find(\"tbody\")\n",
    "\n",
    "# Each result is in a table row (tr)\n",
    "results = result_list.find_all(\"tr\")\n",
    "\n",
    "race_top_20 = {}\n",
    "\n",
    "for i in range(20):\n",
    "    result = results[i]\n",
    "    \n",
    "    # Again, use your browser to find the element you are interested in\n",
    "    rider = result.find_all(\"a\")[0].text\n",
    "    \n",
    "    race_top_20[i + 1] = rider \n",
    "    \n",
    "pprint.pprint(race_top_20)"
   ]
  },
  {
   "cell_type": "code",
   "execution_count": 7,
   "metadata": {},
   "outputs": [
    {
     "data": {
      "text/html": [
       "<html>\n",
       "<head><meta charset=\"utf-8\" /></head>\n",
       "<body>\n",
       "    <div>                        <script type=\"text/javascript\">window.PlotlyConfig = {MathJaxConfig: 'local'};</script>\n",
       "        <script src=\"https://cdn.plot.ly/plotly-2.12.1.min.js\"></script>                <div id=\"015db54d-b161-43ab-9236-949ae761e19c\" class=\"plotly-graph-div\" style=\"height:100%; width:100%;\"></div>            <script type=\"text/javascript\">                                    window.PLOTLYENV=window.PLOTLYENV || {};                                    if (document.getElementById(\"015db54d-b161-43ab-9236-949ae761e19c\")) {                    Plotly.newPlot(                        \"015db54d-b161-43ab-9236-949ae761e19c\",                        [{\"hovertemplate\":\"lengte=%{x}<br>gewicht=%{y}<extra></extra>\",\"legendgroup\":\"\",\"marker\":{\"color\":\"#636efa\",\"symbol\":\"circle\"},\"mode\":\"markers\",\"name\":\"\",\"orientation\":\"v\",\"showlegend\":false,\"x\":[60,70,80,90,100,110,120,130,140,150,160,170,180,190],\"xaxis\":\"x\",\"y\":[5.5,8.0,11.5,13.5,15.8,18.2,22.0,24.0,28.0,36.0,45.0,60.0,64.0,75.0],\"yaxis\":\"y\",\"type\":\"scatter\"},{\"hovertemplate\":\"<b>OLS trendline</b><br>gewicht = 0.507451 * lengte + -32.967<br>R<sup>2</sup>=0.903689<br><br>lengte=%{x}<br>gewicht=%{y} <b>(trend)</b><extra></extra>\",\"legendgroup\":\"\",\"marker\":{\"color\":\"#636efa\",\"symbol\":\"circle\"},\"mode\":\"lines\",\"name\":\"\",\"showlegend\":false,\"x\":[60,70,80,90,100,110,120,130,140,150,160,170,180,190],\"xaxis\":\"x\",\"y\":[-2.5200000000000173,2.5545054945054773,7.629010989010979,12.703516483516474,17.778021978021975,22.85252747252747,27.92703296703297,33.00153846153847,38.07604395604396,43.15054945054946,48.225054945054964,53.29956043956045,58.37406593406595,63.448571428571455],\"yaxis\":\"y\",\"type\":\"scatter\"}],                        {\"template\":{\"data\":{\"histogram2dcontour\":[{\"type\":\"histogram2dcontour\",\"colorbar\":{\"outlinewidth\":0,\"ticks\":\"\"},\"colorscale\":[[0.0,\"#0d0887\"],[0.1111111111111111,\"#46039f\"],[0.2222222222222222,\"#7201a8\"],[0.3333333333333333,\"#9c179e\"],[0.4444444444444444,\"#bd3786\"],[0.5555555555555556,\"#d8576b\"],[0.6666666666666666,\"#ed7953\"],[0.7777777777777778,\"#fb9f3a\"],[0.8888888888888888,\"#fdca26\"],[1.0,\"#f0f921\"]]}],\"choropleth\":[{\"type\":\"choropleth\",\"colorbar\":{\"outlinewidth\":0,\"ticks\":\"\"}}],\"histogram2d\":[{\"type\":\"histogram2d\",\"colorbar\":{\"outlinewidth\":0,\"ticks\":\"\"},\"colorscale\":[[0.0,\"#0d0887\"],[0.1111111111111111,\"#46039f\"],[0.2222222222222222,\"#7201a8\"],[0.3333333333333333,\"#9c179e\"],[0.4444444444444444,\"#bd3786\"],[0.5555555555555556,\"#d8576b\"],[0.6666666666666666,\"#ed7953\"],[0.7777777777777778,\"#fb9f3a\"],[0.8888888888888888,\"#fdca26\"],[1.0,\"#f0f921\"]]}],\"heatmap\":[{\"type\":\"heatmap\",\"colorbar\":{\"outlinewidth\":0,\"ticks\":\"\"},\"colorscale\":[[0.0,\"#0d0887\"],[0.1111111111111111,\"#46039f\"],[0.2222222222222222,\"#7201a8\"],[0.3333333333333333,\"#9c179e\"],[0.4444444444444444,\"#bd3786\"],[0.5555555555555556,\"#d8576b\"],[0.6666666666666666,\"#ed7953\"],[0.7777777777777778,\"#fb9f3a\"],[0.8888888888888888,\"#fdca26\"],[1.0,\"#f0f921\"]]}],\"heatmapgl\":[{\"type\":\"heatmapgl\",\"colorbar\":{\"outlinewidth\":0,\"ticks\":\"\"},\"colorscale\":[[0.0,\"#0d0887\"],[0.1111111111111111,\"#46039f\"],[0.2222222222222222,\"#7201a8\"],[0.3333333333333333,\"#9c179e\"],[0.4444444444444444,\"#bd3786\"],[0.5555555555555556,\"#d8576b\"],[0.6666666666666666,\"#ed7953\"],[0.7777777777777778,\"#fb9f3a\"],[0.8888888888888888,\"#fdca26\"],[1.0,\"#f0f921\"]]}],\"contourcarpet\":[{\"type\":\"contourcarpet\",\"colorbar\":{\"outlinewidth\":0,\"ticks\":\"\"}}],\"contour\":[{\"type\":\"contour\",\"colorbar\":{\"outlinewidth\":0,\"ticks\":\"\"},\"colorscale\":[[0.0,\"#0d0887\"],[0.1111111111111111,\"#46039f\"],[0.2222222222222222,\"#7201a8\"],[0.3333333333333333,\"#9c179e\"],[0.4444444444444444,\"#bd3786\"],[0.5555555555555556,\"#d8576b\"],[0.6666666666666666,\"#ed7953\"],[0.7777777777777778,\"#fb9f3a\"],[0.8888888888888888,\"#fdca26\"],[1.0,\"#f0f921\"]]}],\"surface\":[{\"type\":\"surface\",\"colorbar\":{\"outlinewidth\":0,\"ticks\":\"\"},\"colorscale\":[[0.0,\"#0d0887\"],[0.1111111111111111,\"#46039f\"],[0.2222222222222222,\"#7201a8\"],[0.3333333333333333,\"#9c179e\"],[0.4444444444444444,\"#bd3786\"],[0.5555555555555556,\"#d8576b\"],[0.6666666666666666,\"#ed7953\"],[0.7777777777777778,\"#fb9f3a\"],[0.8888888888888888,\"#fdca26\"],[1.0,\"#f0f921\"]]}],\"mesh3d\":[{\"type\":\"mesh3d\",\"colorbar\":{\"outlinewidth\":0,\"ticks\":\"\"}}],\"scatter\":[{\"fillpattern\":{\"fillmode\":\"overlay\",\"size\":10,\"solidity\":0.2},\"type\":\"scatter\"}],\"parcoords\":[{\"type\":\"parcoords\",\"line\":{\"colorbar\":{\"outlinewidth\":0,\"ticks\":\"\"}}}],\"scatterpolargl\":[{\"type\":\"scatterpolargl\",\"marker\":{\"colorbar\":{\"outlinewidth\":0,\"ticks\":\"\"}}}],\"bar\":[{\"error_x\":{\"color\":\"#2a3f5f\"},\"error_y\":{\"color\":\"#2a3f5f\"},\"marker\":{\"line\":{\"color\":\"#E5ECF6\",\"width\":0.5},\"pattern\":{\"fillmode\":\"overlay\",\"size\":10,\"solidity\":0.2}},\"type\":\"bar\"}],\"scattergeo\":[{\"type\":\"scattergeo\",\"marker\":{\"colorbar\":{\"outlinewidth\":0,\"ticks\":\"\"}}}],\"scatterpolar\":[{\"type\":\"scatterpolar\",\"marker\":{\"colorbar\":{\"outlinewidth\":0,\"ticks\":\"\"}}}],\"histogram\":[{\"marker\":{\"pattern\":{\"fillmode\":\"overlay\",\"size\":10,\"solidity\":0.2}},\"type\":\"histogram\"}],\"scattergl\":[{\"type\":\"scattergl\",\"marker\":{\"colorbar\":{\"outlinewidth\":0,\"ticks\":\"\"}}}],\"scatter3d\":[{\"type\":\"scatter3d\",\"line\":{\"colorbar\":{\"outlinewidth\":0,\"ticks\":\"\"}},\"marker\":{\"colorbar\":{\"outlinewidth\":0,\"ticks\":\"\"}}}],\"scattermapbox\":[{\"type\":\"scattermapbox\",\"marker\":{\"colorbar\":{\"outlinewidth\":0,\"ticks\":\"\"}}}],\"scatterternary\":[{\"type\":\"scatterternary\",\"marker\":{\"colorbar\":{\"outlinewidth\":0,\"ticks\":\"\"}}}],\"scattercarpet\":[{\"type\":\"scattercarpet\",\"marker\":{\"colorbar\":{\"outlinewidth\":0,\"ticks\":\"\"}}}],\"carpet\":[{\"aaxis\":{\"endlinecolor\":\"#2a3f5f\",\"gridcolor\":\"white\",\"linecolor\":\"white\",\"minorgridcolor\":\"white\",\"startlinecolor\":\"#2a3f5f\"},\"baxis\":{\"endlinecolor\":\"#2a3f5f\",\"gridcolor\":\"white\",\"linecolor\":\"white\",\"minorgridcolor\":\"white\",\"startlinecolor\":\"#2a3f5f\"},\"type\":\"carpet\"}],\"table\":[{\"cells\":{\"fill\":{\"color\":\"#EBF0F8\"},\"line\":{\"color\":\"white\"}},\"header\":{\"fill\":{\"color\":\"#C8D4E3\"},\"line\":{\"color\":\"white\"}},\"type\":\"table\"}],\"barpolar\":[{\"marker\":{\"line\":{\"color\":\"#E5ECF6\",\"width\":0.5},\"pattern\":{\"fillmode\":\"overlay\",\"size\":10,\"solidity\":0.2}},\"type\":\"barpolar\"}],\"pie\":[{\"automargin\":true,\"type\":\"pie\"}]},\"layout\":{\"autotypenumbers\":\"strict\",\"colorway\":[\"#636efa\",\"#EF553B\",\"#00cc96\",\"#ab63fa\",\"#FFA15A\",\"#19d3f3\",\"#FF6692\",\"#B6E880\",\"#FF97FF\",\"#FECB52\"],\"font\":{\"color\":\"#2a3f5f\"},\"hovermode\":\"closest\",\"hoverlabel\":{\"align\":\"left\"},\"paper_bgcolor\":\"white\",\"plot_bgcolor\":\"#E5ECF6\",\"polar\":{\"bgcolor\":\"#E5ECF6\",\"angularaxis\":{\"gridcolor\":\"white\",\"linecolor\":\"white\",\"ticks\":\"\"},\"radialaxis\":{\"gridcolor\":\"white\",\"linecolor\":\"white\",\"ticks\":\"\"}},\"ternary\":{\"bgcolor\":\"#E5ECF6\",\"aaxis\":{\"gridcolor\":\"white\",\"linecolor\":\"white\",\"ticks\":\"\"},\"baxis\":{\"gridcolor\":\"white\",\"linecolor\":\"white\",\"ticks\":\"\"},\"caxis\":{\"gridcolor\":\"white\",\"linecolor\":\"white\",\"ticks\":\"\"}},\"coloraxis\":{\"colorbar\":{\"outlinewidth\":0,\"ticks\":\"\"}},\"colorscale\":{\"sequential\":[[0.0,\"#0d0887\"],[0.1111111111111111,\"#46039f\"],[0.2222222222222222,\"#7201a8\"],[0.3333333333333333,\"#9c179e\"],[0.4444444444444444,\"#bd3786\"],[0.5555555555555556,\"#d8576b\"],[0.6666666666666666,\"#ed7953\"],[0.7777777777777778,\"#fb9f3a\"],[0.8888888888888888,\"#fdca26\"],[1.0,\"#f0f921\"]],\"sequentialminus\":[[0.0,\"#0d0887\"],[0.1111111111111111,\"#46039f\"],[0.2222222222222222,\"#7201a8\"],[0.3333333333333333,\"#9c179e\"],[0.4444444444444444,\"#bd3786\"],[0.5555555555555556,\"#d8576b\"],[0.6666666666666666,\"#ed7953\"],[0.7777777777777778,\"#fb9f3a\"],[0.8888888888888888,\"#fdca26\"],[1.0,\"#f0f921\"]],\"diverging\":[[0,\"#8e0152\"],[0.1,\"#c51b7d\"],[0.2,\"#de77ae\"],[0.3,\"#f1b6da\"],[0.4,\"#fde0ef\"],[0.5,\"#f7f7f7\"],[0.6,\"#e6f5d0\"],[0.7,\"#b8e186\"],[0.8,\"#7fbc41\"],[0.9,\"#4d9221\"],[1,\"#276419\"]]},\"xaxis\":{\"gridcolor\":\"white\",\"linecolor\":\"white\",\"ticks\":\"\",\"title\":{\"standoff\":15},\"zerolinecolor\":\"white\",\"automargin\":true,\"zerolinewidth\":2},\"yaxis\":{\"gridcolor\":\"white\",\"linecolor\":\"white\",\"ticks\":\"\",\"title\":{\"standoff\":15},\"zerolinecolor\":\"white\",\"automargin\":true,\"zerolinewidth\":2},\"scene\":{\"xaxis\":{\"backgroundcolor\":\"#E5ECF6\",\"gridcolor\":\"white\",\"linecolor\":\"white\",\"showbackground\":true,\"ticks\":\"\",\"zerolinecolor\":\"white\",\"gridwidth\":2},\"yaxis\":{\"backgroundcolor\":\"#E5ECF6\",\"gridcolor\":\"white\",\"linecolor\":\"white\",\"showbackground\":true,\"ticks\":\"\",\"zerolinecolor\":\"white\",\"gridwidth\":2},\"zaxis\":{\"backgroundcolor\":\"#E5ECF6\",\"gridcolor\":\"white\",\"linecolor\":\"white\",\"showbackground\":true,\"ticks\":\"\",\"zerolinecolor\":\"white\",\"gridwidth\":2}},\"shapedefaults\":{\"line\":{\"color\":\"#2a3f5f\"}},\"annotationdefaults\":{\"arrowcolor\":\"#2a3f5f\",\"arrowhead\":0,\"arrowwidth\":1},\"geo\":{\"bgcolor\":\"white\",\"landcolor\":\"#E5ECF6\",\"subunitcolor\":\"white\",\"showland\":true,\"showlakes\":true,\"lakecolor\":\"white\"},\"title\":{\"x\":0.05},\"mapbox\":{\"style\":\"light\"}}},\"xaxis\":{\"anchor\":\"y\",\"domain\":[0.0,1.0],\"title\":{\"text\":\"lengte\"}},\"yaxis\":{\"anchor\":\"x\",\"domain\":[0.0,1.0],\"title\":{\"text\":\"gewicht\"}},\"legend\":{\"tracegroupgap\":0},\"title\":{\"text\":\"Lengte en gewicht van jongens 1-21 jaar\"}},                        {\"responsive\": true}                    )                };                            </script>        </div>\n",
       "</body>\n",
       "</html>"
      ],
      "text/plain": [
       "<IPython.core.display.HTML object>"
      ]
     },
     "execution_count": 7,
     "metadata": {},
     "output_type": "execute_result"
    }
   ],
   "source": [
    "#hide_input\n",
    "# Lengte en gewicht van jongens 1-21 jaar\n",
    "lengte = [60, 70, 80, 90, 100, 110, 120, 130, 140, 150, 160, 170, 180, 190]\n",
    "gewicht = [5.5, 8, 11.5, 13.5, 15.8, 18.2, 22, 24, 28, 36, 45, 60, 64, 75]\n",
    "\n",
    "df = pd.DataFrame(zip(lengte, gewicht), columns=[\"lengte\", \"gewicht\"])\n",
    "\n",
    "fig = px.scatter(df, x=\"lengte\", y=\"gewicht\", title=\"Lengte en gewicht van jongens 1-21 jaar\", trendline=\"ols\")\n",
    "HTML(fig.to_html(include_plotlyjs='cdn', include_mathjax=False))"
   ]
  },
  {
   "cell_type": "markdown",
   "metadata": {},
   "source": [
    "> data van: https://www.tno.nl/groei"
   ]
  },
  {
   "cell_type": "markdown",
   "metadata": {},
   "source": [
    "| Features | Chris Froome |\n",
    "|----------|-------|\n",
    "| PCS | 1377 |\n",
    "| Team PCS | 4172 |\n",
    "| Age | 29 |\n",
    "|flat1-4| 1.0 |\n",
    "|flat5-8| 0.0 |\n",
    "|flat9-12| 2.0  |\n",
    "|hills(flat)1-4| 1.0  |\n",
    "|hills(flat)5-8| 0.0 |\n",
    "|hills(flat)9-12| 1.0 |\n",
    "|hills(uphill)1-4| 2.0 |\n",
    "|hills(uphill)5-8| 1.0 |\n",
    "|hills(uphill)9-12| 1.0 |\n",
    "|mountains(flat)1-4| 1.0 |\n",
    "|mountains(flat)5-8| 0.0 |\n",
    "|mountains(flat)9-12| 1.0 |\n",
    "|mountains(uphill)1-4| 4.0 |\n",
    "|mountains(uphill)5-8| 5.0 |\n",
    "|mountains(uphill)9-12| 1.0 |\n",
    "|gc1-4| 3.0 |\n",
    "|gc5-8| 1.0 |\n",
    "|gc9-12| 1.0 |"
   ]
  },
  {
   "cell_type": "markdown",
   "metadata": {},
   "source": [
    "| Features | Wout van Aert |\n",
    "|----------|-------|\n",
    "| PCS | 2820 |\n",
    "| Team PCS | 9724 |\n",
    "| PCS ratio | 0.29 |\n",
    "| Age | 27 |\n",
    "|top_5s_category_0| 0 |\n",
    "|top_10s_category_0| 0 |\n",
    "|top_15s_category_0| 0  |\n",
    "|top_20s_category_0| 0  |\n",
    "|top_5s_category_1| 0 |\n",
    "|top_10s_category_1| 0.0 |\n",
    "|top_15s_category_1| 0  |\n",
    "|top_20s_category_1| 0  |\n",
    "|top_5s_category_2| 2 |\n",
    "|top_10s_category_2| 0 |\n",
    "|top_15s_category_2| 0  |\n",
    "|top_20s_category_2| 0  |\n",
    "|top_5s_category_3| 1 |\n",
    "|top_10s_category_3| 1 |\n",
    "|top_15s_category_3| 0 |\n",
    "|top_20s_category_3| 0  |\n",
    "|top_5s_category_4| 11 |\n",
    "|top_10s_category_4| 2 |\n",
    "|top_15s_category_4| 2  |\n",
    "|top_20s_category_4| 0  |\n",
    "|top_5s_category_gc| 1.0 |\n",
    "|top_10s_category_gc| 0.0 |\n",
    "|top_15s_category_gc| 0 |\n",
    "|top_20s_category_gc| 0 |"
   ]
  },
  {
   "cell_type": "markdown",
   "metadata": {},
   "source": [
    "|   | rider_name             | prediction | price | score_price_ratio |\n",
    "|---|------------------------|------------|-------|-------------------|\n",
    "|   | VAN DER POEL Mathieu   | 84.196594  | 200   | 0.420983          |\n",
    "|   | VLASOV Aleksandr       | 75.061699  | 150   | 0.500411          |\n",
    "|   | POGACAR Tadej          | 70.501328  | 200   | 0.352507          |\n",
    "|   | ROGLIC Primož          | 67.192093  | 200   | 0.335960          |\n",
    "|   | VAN AERT Wout          | 66.121864  | 200   | 0.330609          |\n",
    "|   | MARTINEZ Daniel Felipe | 58.990757  | 100   | 0.589908          |\n",
    "|   | VINGEGAARD Jonas       | 57.898109  | 150   | 0.385987          |\n",
    "|   | JAKOBSEN Fabio         | 55.955868  | 150   | 0.373039          |\n",
    "|   | KUNG Stefan            | 55.773567  | 100   | 0.557736          |\n",
    "|   | KRISTOFF Alexander     | 54.939995  | 100   | 0.549400          |\n",
    "|   | COSNEFROY Benoit       | 54.132721  | 100   | 0.541327          |\n",
    "|   | PEDERSEN Mads          | 50.576691  | 100   | 0.505767          |\n",
    "|   | MOHORIC Matej          | 50.398064  | 100   | 0.503981          |\n",
    "|   | VAN BAARLE Dylan       | 49.590599  | 100   | 0.495906          |\n",
    "|   | HOFSTETTER Hugo        | 49.079250  | 100   | 0.490793          |\n",
    "|   | EWAN Caleb             | 46.512360  | 100   | 0.465124          |\n",
    "|   | LAPORTE Christophe     | 44.920681  | 100   | 0.449207          |\n",
    "|   | TEUNS Dylan            | 44.595673  | 100   | 0.445957          |\n",
    "|   | MCNULTY Brandon        | 44.574734  | 100   | 0.445747          |\n",
    "|   | PHILIPSEN Jasper       | 44.041866  | 100   | 0.440419          |"
   ]
  },
  {
   "cell_type": "markdown",
   "metadata": {},
   "source": [
    "![](images/tussenproject_decision_tree_example.PNG)"
   ]
  },
  {
   "cell_type": "markdown",
   "metadata": {},
   "source": []
  }
 ],
 "metadata": {
  "interpreter": {
   "hash": "7ae901ce181c38fd897ebd5c927bbcb94834f75075ddf55fc65beb0cfc603221"
  },
  "kernelspec": {
   "display_name": "Python 3.9.9 ('venv': venv)",
   "language": "python",
   "name": "python3"
  },
  "language_info": {
   "codemirror_mode": {
    "name": "ipython",
    "version": 3
   },
   "file_extension": ".py",
   "mimetype": "text/x-python",
   "name": "python",
   "nbconvert_exporter": "python",
   "pygments_lexer": "ipython3",
   "version": "3.9.9"
  },
  "orig_nbformat": 4
 },
 "nbformat": 4,
 "nbformat_minor": 2
}
