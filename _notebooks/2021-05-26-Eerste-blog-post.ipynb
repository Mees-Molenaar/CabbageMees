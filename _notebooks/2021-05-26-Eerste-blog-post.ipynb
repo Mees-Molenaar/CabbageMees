{
 "cells": [
  {
   "cell_type": "markdown",
   "id": "8a824278-745b-4700-a22b-81c6040f942e",
   "metadata": {},
   "source": [
    "# \"Welkom op CabbageMees!\"\n",
    "> \"Waarom begin ik met bloggen\"\n",
    "\n",
    "- toc: true\n",
    "- branch: master\n",
    "- badges: false\n",
    "- comment: true\n",
    "- categories: []\n",
    "- search_exclude: true\n",
    "- show_tags: true"
   ]
  },
  {
   "cell_type": "markdown",
   "id": "94f10a83-34ef-4c6e-ac27-fb2e1a3f192d",
   "metadata": {},
   "source": [
    "Hoi,\n",
    "\n",
    "Mijn naam is Mees en sommige zullen zeggen dat ik een rare vogel ben (een koolmees bijvoorbeeld). In 2020 ben ik afgestudeerd aan de Universiteit Leiden van de studie Life Science & Technology. Nu wil ik deze kennis over de biologie verbinden met een andere passie van mij, namelijk programmeren en meer specifiek Artificiële Intelligentie (AI). Via deze blog wil ik jullie graag op de hoogte houden van mijn bezigheden."
   ]
  },
  {
   "cell_type": "markdown",
   "id": "ae464a16-a5d0-477c-a513-0f1a640f510d",
   "metadata": {},
   "source": [
    "Maar eerst nog even terug naar waar dit pad begon. Toen ik nog jongen en kleiner was dan nu, was het mijn droom om een middel te vinden tegen kanker. Daartoe leide dat ik, na de middelbare school, Life Science & Technology ging studeren. Tijdens de studie kwam ik tot de conclusie dat het laboratorium niks voor mij was en dat ik daardoor nooit een medicijn zou outvinden. Dit was een enorme teleurstellen, maar gelukkig kwam ik er snel achter dat je op veel meer manieren bij kan dragen aan het ontwikkelen van medicijnen. Zo ben ik in aanraking gekomen met AI."
   ]
  },
  {
   "cell_type": "markdown",
   "id": "8020a44c-c3f5-42ac-adb6-1d38500b179b",
   "metadata": {},
   "source": [
    "De eerste kennismaking was tijdens het vak computationele medicijn ontwikkeling (gegeven door prof. Fraaije). Hieren bespraken wij bijvoorbeeld Quantitative structure-activity relationship ([QSAR](https://nl.wikipedia.org/wiki/Quantitative_structure-activity_relationship)), een machinaal leren (een vorm van AI) techniek om te voorspellen wat voor eigenschappen een molecuul heeft (zoals [elektronegativiteit](https://nl.wikipedia.org/wiki/Elektronegativiteit#:~:text=De%20elektronegativiteit%20(EN)%20of%20elektronegatieve,toe%20in%20het%20periodiek%20systeem.)). Dit sprak erg tot mijn verbeelding en zo begon het fantaseren over een programma wat alles weet van het menselijk lichaam en van een potentieel medicijn en daardoor kan voorspellen of het medicijn werkzaam is, of er bijwerkingen zijn, in welk weefsel het zich het meeste bevind en nog meer belangrijke eigenschappen van medicijnen. JA dacht ik. Dit is fantastisch! Ik wil zo snel mogelijk AI onder de knie krijgen!"
   ]
  },
  {
   "cell_type": "markdown",
   "id": "22e95b75-4d61-4b00-972e-db22dd0c5251",
   "metadata": {},
   "source": [
    "Nu, een aantal jaren verder, heb ik veel geleerd. Van programmeren in Python tot het maken van neurale netwerken (een vorm van AI) en ik ben daar nog steeds iedere dag met passie mee bezig. Ook maak ik eigen projecten, maar hoe de reis verder zal gaan is nog onzeker. Mede daarom wil ik jullie graag mee nemen met deze reis. Daarnaast is het uitleggen van de technieken en termen wat je zelf geleerd hebt de ultieme manier om jezelf te toetsen en dus vergt het dat je het onderwerp tot in de puntjes begrijpt. Als laatste, en misschien ook het belangrijkste, hoop ik jullie lezers te helpen bij het begrijpen van de soms lastige concepten die bij AI horen."
   ]
  },
  {
   "cell_type": "markdown",
   "id": "68d59f6d-505f-4143-9ac4-1ed2dfb28d74",
   "metadata": {},
   "source": [
    "Tot zo ver de eerste blog post en tot de volgende keer!\n",
    "\n",
    "Mees"
   ]
  }
 ],
 "metadata": {
  "kernelspec": {
   "display_name": "Python 3",
   "language": "python",
   "name": "python3"
  },
  "language_info": {
   "codemirror_mode": {
    "name": "ipython",
    "version": 3
   },
   "file_extension": ".py",
   "mimetype": "text/x-python",
   "name": "python",
   "nbconvert_exporter": "python",
   "pygments_lexer": "ipython3",
   "version": "3.7.3"
  }
 },
 "nbformat": 4,
 "nbformat_minor": 5
}
