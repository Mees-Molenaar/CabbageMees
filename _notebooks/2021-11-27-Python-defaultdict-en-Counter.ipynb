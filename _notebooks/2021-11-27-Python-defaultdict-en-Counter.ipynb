{
 "cells": [
  {
   "cell_type": "markdown",
   "metadata": {},
   "source": [
    "# \"Python's defaultdict en Counter!\"\n",
    "> \"Twee handige datatypes\"\n",
    "\n",
    "- hidden: true\n",
    "- toc: false\n",
    "- branch: master\n",
    "- badges: false\n",
    "- categories: [Python]\n",
    "- search_exclude: true\n",
    "- show_tags: true"
   ]
  },
  {
   "cell_type": "markdown",
   "metadata": {},
   "source": [
    "# Test"
   ]
  }
 ],
 "metadata": {
  "interpreter": {
   "hash": "e7370f93d1d0cde622a1f8e1c04877d8463912d04d973331ad4851f04de6915a"
  },
  "kernelspec": {
   "display_name": "Python 3.7.3 32-bit",
   "language": "python",
   "name": "python3"
  },
  "language_info": {
   "name": "python",
   "version": "3.7.3"
  },
  "orig_nbformat": 4
 },
 "nbformat": 4,
 "nbformat_minor": 2
}
